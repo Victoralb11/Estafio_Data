{
  "nbformat": 4,
  "nbformat_minor": 0,
  "metadata": {
    "colab": {
      "provenance": []
    },
    "kernelspec": {
      "name": "python3",
      "display_name": "Python 3"
    },
    "language_info": {
      "name": "python"
    }
  },
  "cells": [
    {
      "cell_type": "code",
      "execution_count": 1,
      "metadata": {
        "colab": {
          "base_uri": "https://localhost:8080/"
        },
        "id": "H8RN_lqr-CfK",
        "outputId": "85349090-de03-454f-899e-86bb47a1ce06"
      },
      "outputs": [
        {
          "output_type": "stream",
          "name": "stdout",
          "text": [
            "Requirement already satisfied: pyspark in /usr/local/lib/python3.10/dist-packages (3.5.3)\n",
            "Requirement already satisfied: py4j==0.10.9.7 in /usr/local/lib/python3.10/dist-packages (from pyspark) (0.10.9.7)\n"
          ]
        }
      ],
      "source": [
        "!pip install pyspark\n"
      ]
    },
    {
      "cell_type": "code",
      "source": [
        "from google.colab import files\n",
        "\n",
        "# Faça o upload do arquivo local\n",
        "uploaded = files.upload()"
      ],
      "metadata": {
        "colab": {
          "base_uri": "https://localhost:8080/",
          "height": 73
        },
        "id": "iHT4sKwT-F-j",
        "outputId": "05f2e846-381f-4a07-acbc-183cc39a0287"
      },
      "execution_count": 2,
      "outputs": [
        {
          "output_type": "display_data",
          "data": {
            "text/plain": [
              "<IPython.core.display.HTML object>"
            ],
            "text/html": [
              "\n",
              "     <input type=\"file\" id=\"files-c175a30c-356d-4c83-9590-8dbba95e1899\" name=\"files[]\" multiple disabled\n",
              "        style=\"border:none\" />\n",
              "     <output id=\"result-c175a30c-356d-4c83-9590-8dbba95e1899\">\n",
              "      Upload widget is only available when the cell has been executed in the\n",
              "      current browser session. Please rerun this cell to enable.\n",
              "      </output>\n",
              "      <script>// Copyright 2017 Google LLC\n",
              "//\n",
              "// Licensed under the Apache License, Version 2.0 (the \"License\");\n",
              "// you may not use this file except in compliance with the License.\n",
              "// You may obtain a copy of the License at\n",
              "//\n",
              "//      http://www.apache.org/licenses/LICENSE-2.0\n",
              "//\n",
              "// Unless required by applicable law or agreed to in writing, software\n",
              "// distributed under the License is distributed on an \"AS IS\" BASIS,\n",
              "// WITHOUT WARRANTIES OR CONDITIONS OF ANY KIND, either express or implied.\n",
              "// See the License for the specific language governing permissions and\n",
              "// limitations under the License.\n",
              "\n",
              "/**\n",
              " * @fileoverview Helpers for google.colab Python module.\n",
              " */\n",
              "(function(scope) {\n",
              "function span(text, styleAttributes = {}) {\n",
              "  const element = document.createElement('span');\n",
              "  element.textContent = text;\n",
              "  for (const key of Object.keys(styleAttributes)) {\n",
              "    element.style[key] = styleAttributes[key];\n",
              "  }\n",
              "  return element;\n",
              "}\n",
              "\n",
              "// Max number of bytes which will be uploaded at a time.\n",
              "const MAX_PAYLOAD_SIZE = 100 * 1024;\n",
              "\n",
              "function _uploadFiles(inputId, outputId) {\n",
              "  const steps = uploadFilesStep(inputId, outputId);\n",
              "  const outputElement = document.getElementById(outputId);\n",
              "  // Cache steps on the outputElement to make it available for the next call\n",
              "  // to uploadFilesContinue from Python.\n",
              "  outputElement.steps = steps;\n",
              "\n",
              "  return _uploadFilesContinue(outputId);\n",
              "}\n",
              "\n",
              "// This is roughly an async generator (not supported in the browser yet),\n",
              "// where there are multiple asynchronous steps and the Python side is going\n",
              "// to poll for completion of each step.\n",
              "// This uses a Promise to block the python side on completion of each step,\n",
              "// then passes the result of the previous step as the input to the next step.\n",
              "function _uploadFilesContinue(outputId) {\n",
              "  const outputElement = document.getElementById(outputId);\n",
              "  const steps = outputElement.steps;\n",
              "\n",
              "  const next = steps.next(outputElement.lastPromiseValue);\n",
              "  return Promise.resolve(next.value.promise).then((value) => {\n",
              "    // Cache the last promise value to make it available to the next\n",
              "    // step of the generator.\n",
              "    outputElement.lastPromiseValue = value;\n",
              "    return next.value.response;\n",
              "  });\n",
              "}\n",
              "\n",
              "/**\n",
              " * Generator function which is called between each async step of the upload\n",
              " * process.\n",
              " * @param {string} inputId Element ID of the input file picker element.\n",
              " * @param {string} outputId Element ID of the output display.\n",
              " * @return {!Iterable<!Object>} Iterable of next steps.\n",
              " */\n",
              "function* uploadFilesStep(inputId, outputId) {\n",
              "  const inputElement = document.getElementById(inputId);\n",
              "  inputElement.disabled = false;\n",
              "\n",
              "  const outputElement = document.getElementById(outputId);\n",
              "  outputElement.innerHTML = '';\n",
              "\n",
              "  const pickedPromise = new Promise((resolve) => {\n",
              "    inputElement.addEventListener('change', (e) => {\n",
              "      resolve(e.target.files);\n",
              "    });\n",
              "  });\n",
              "\n",
              "  const cancel = document.createElement('button');\n",
              "  inputElement.parentElement.appendChild(cancel);\n",
              "  cancel.textContent = 'Cancel upload';\n",
              "  const cancelPromise = new Promise((resolve) => {\n",
              "    cancel.onclick = () => {\n",
              "      resolve(null);\n",
              "    };\n",
              "  });\n",
              "\n",
              "  // Wait for the user to pick the files.\n",
              "  const files = yield {\n",
              "    promise: Promise.race([pickedPromise, cancelPromise]),\n",
              "    response: {\n",
              "      action: 'starting',\n",
              "    }\n",
              "  };\n",
              "\n",
              "  cancel.remove();\n",
              "\n",
              "  // Disable the input element since further picks are not allowed.\n",
              "  inputElement.disabled = true;\n",
              "\n",
              "  if (!files) {\n",
              "    return {\n",
              "      response: {\n",
              "        action: 'complete',\n",
              "      }\n",
              "    };\n",
              "  }\n",
              "\n",
              "  for (const file of files) {\n",
              "    const li = document.createElement('li');\n",
              "    li.append(span(file.name, {fontWeight: 'bold'}));\n",
              "    li.append(span(\n",
              "        `(${file.type || 'n/a'}) - ${file.size} bytes, ` +\n",
              "        `last modified: ${\n",
              "            file.lastModifiedDate ? file.lastModifiedDate.toLocaleDateString() :\n",
              "                                    'n/a'} - `));\n",
              "    const percent = span('0% done');\n",
              "    li.appendChild(percent);\n",
              "\n",
              "    outputElement.appendChild(li);\n",
              "\n",
              "    const fileDataPromise = new Promise((resolve) => {\n",
              "      const reader = new FileReader();\n",
              "      reader.onload = (e) => {\n",
              "        resolve(e.target.result);\n",
              "      };\n",
              "      reader.readAsArrayBuffer(file);\n",
              "    });\n",
              "    // Wait for the data to be ready.\n",
              "    let fileData = yield {\n",
              "      promise: fileDataPromise,\n",
              "      response: {\n",
              "        action: 'continue',\n",
              "      }\n",
              "    };\n",
              "\n",
              "    // Use a chunked sending to avoid message size limits. See b/62115660.\n",
              "    let position = 0;\n",
              "    do {\n",
              "      const length = Math.min(fileData.byteLength - position, MAX_PAYLOAD_SIZE);\n",
              "      const chunk = new Uint8Array(fileData, position, length);\n",
              "      position += length;\n",
              "\n",
              "      const base64 = btoa(String.fromCharCode.apply(null, chunk));\n",
              "      yield {\n",
              "        response: {\n",
              "          action: 'append',\n",
              "          file: file.name,\n",
              "          data: base64,\n",
              "        },\n",
              "      };\n",
              "\n",
              "      let percentDone = fileData.byteLength === 0 ?\n",
              "          100 :\n",
              "          Math.round((position / fileData.byteLength) * 100);\n",
              "      percent.textContent = `${percentDone}% done`;\n",
              "\n",
              "    } while (position < fileData.byteLength);\n",
              "  }\n",
              "\n",
              "  // All done.\n",
              "  yield {\n",
              "    response: {\n",
              "      action: 'complete',\n",
              "    }\n",
              "  };\n",
              "}\n",
              "\n",
              "scope.google = scope.google || {};\n",
              "scope.google.colab = scope.google.colab || {};\n",
              "scope.google.colab._files = {\n",
              "  _uploadFiles,\n",
              "  _uploadFilesContinue,\n",
              "};\n",
              "})(self);\n",
              "</script> "
            ]
          },
          "metadata": {}
        },
        {
          "output_type": "stream",
          "name": "stdout",
          "text": [
            "Saving nomes_aleatorios.txt to nomes_aleatorios.txt\n"
          ]
        }
      ]
    },
    {
      "cell_type": "code",
      "source": [
        "from pyspark.sql import SparkSession\n",
        "from pyspark.sql.functions import expr, col\n",
        "\n",
        "spark = SparkSession.builder \\\n",
        "    .appName(\"Exercício Intro\") \\\n",
        "    .master(\"local[*]\") \\\n",
        "    .getOrCreate()"
      ],
      "metadata": {
        "id": "Q7ROEFaEG__M"
      },
      "execution_count": 4,
      "outputs": []
    },
    {
      "cell_type": "code",
      "source": [
        "df_nomes = spark.read.csv('/content/nomes_aleatorios.txt', header=False, inferSchema=True)\n",
        "\n",
        "df_nomes.show(5)"
      ],
      "metadata": {
        "colab": {
          "base_uri": "https://localhost:8080/"
        },
        "id": "AWo30YGbHK-T",
        "outputId": "9badbac7-3e0d-44cd-e86e-62e8fd46f864"
      },
      "execution_count": 5,
      "outputs": [
        {
          "output_type": "stream",
          "name": "stdout",
          "text": [
            "+----------------+\n",
            "|             _c0|\n",
            "+----------------+\n",
            "|  Frances Bennet|\n",
            "|   Jamie Russell|\n",
            "|  Edward Kistler|\n",
            "|   Sheila Maurer|\n",
            "|Donald Golightly|\n",
            "+----------------+\n",
            "only showing top 5 rows\n",
            "\n"
          ]
        }
      ]
    },
    {
      "cell_type": "code",
      "source": [
        "df_nomes = df_nomes.withColumnRenamed(\"_c0\", \"Nomes\")"
      ],
      "metadata": {
        "id": "ObVUy5l-HYWz"
      },
      "execution_count": 6,
      "outputs": []
    },
    {
      "cell_type": "code",
      "source": [
        "df_nomes.printSchema()\n",
        "df_nomes.show(10)"
      ],
      "metadata": {
        "colab": {
          "base_uri": "https://localhost:8080/"
        },
        "id": "D1BLEmnhHdeR",
        "outputId": "523d426b-df73-4f21-a9f9-08c054f82962"
      },
      "execution_count": 7,
      "outputs": [
        {
          "output_type": "stream",
          "name": "stdout",
          "text": [
            "root\n",
            " |-- Nomes: string (nullable = true)\n",
            "\n",
            "+-----------------+\n",
            "|            Nomes|\n",
            "+-----------------+\n",
            "|   Frances Bennet|\n",
            "|    Jamie Russell|\n",
            "|   Edward Kistler|\n",
            "|    Sheila Maurer|\n",
            "| Donald Golightly|\n",
            "|       David Gray|\n",
            "|      Joy Bennett|\n",
            "|      Paul Kriese|\n",
            "|Berniece Ornellas|\n",
            "|    Brian Farrell|\n",
            "+-----------------+\n",
            "only showing top 10 rows\n",
            "\n"
          ]
        }
      ]
    },
    {
      "cell_type": "code",
      "source": [
        "df_nomes = df_nomes.withColumn(\n",
        "    \"Escolaridade\",\n",
        "    expr(\"CASE WHEN rand() < 0.33 THEN 'Fundamental' \" +\n",
        "         \"WHEN rand() < 0.66 THEN 'Medio' ELSE 'Superior' END\")\n",
        ")"
      ],
      "metadata": {
        "id": "tZbYYUlyHfdg"
      },
      "execution_count": 8,
      "outputs": []
    },
    {
      "cell_type": "code",
      "source": [
        "paises = [\"Argentina\", \"Brasil\", \"Chile\", \"Colômbia\", \"Equador\", \"Guiana\",\n",
        "          \"Paraguai\", \"Peru\", \"Suriname\", \"Uruguai\", \"Venezuela\", \"Bolívia\", \"Guiana Francesa\"]\n",
        "\n",
        "df_nomes = df_nomes.withColumn(\n",
        "    \"País\",\n",
        "    expr(\"CASE \" +\n",
        "         \"WHEN rand() < 0.08 THEN 'Argentina' \" +\n",
        "         \"WHEN rand() < 0.16 THEN 'Brasil' \" +\n",
        "         \"WHEN rand() < 0.24 THEN 'Chile' \" +\n",
        "         \"WHEN rand() < 0.32 THEN 'Colômbia' \" +\n",
        "         \"WHEN rand() < 0.40 THEN 'Equador' \" +\n",
        "         \"WHEN rand() < 0.48 THEN 'Guiana' \" +\n",
        "         \"WHEN rand() < 0.56 THEN 'Paraguai' \" +\n",
        "         \"WHEN rand() < 0.64 THEN 'Peru' \" +\n",
        "         \"WHEN rand() < 0.72 THEN 'Suriname' \" +\n",
        "         \"WHEN rand() < 0.80 THEN 'Uruguai' \" +\n",
        "         \"WHEN rand() < 0.88 THEN 'Venezuela' \" +\n",
        "         \"WHEN rand() < 0.96 THEN 'Bolívia' ELSE 'Guiana Francesa' END\")\n",
        ")"
      ],
      "metadata": {
        "id": "zaWzRmanHlah"
      },
      "execution_count": 9,
      "outputs": []
    },
    {
      "cell_type": "code",
      "source": [
        "df_nomes = df_nomes.withColumn(\n",
        "    \"AnoNascimento\",\n",
        "    expr(\"CAST((1945 + rand() * (2010 - 1945)) AS INT)\")\n",
        ")"
      ],
      "metadata": {
        "id": "KXZFi949HqK9"
      },
      "execution_count": 10,
      "outputs": []
    },
    {
      "cell_type": "code",
      "source": [
        "df_selec = df_nomes.filter(df_nomes[\"AnoNascimento\"] >= 2000)\n",
        "df_selec.show(10)"
      ],
      "metadata": {
        "colab": {
          "base_uri": "https://localhost:8080/"
        },
        "id": "3Kycj_f7Htxa",
        "outputId": "fe6d1f87-e993-4e82-89d8-049f710cc2d9"
      },
      "execution_count": 11,
      "outputs": [
        {
          "output_type": "stream",
          "name": "stdout",
          "text": [
            "+----------------+------------+--------+-------------+\n",
            "|           Nomes|Escolaridade|    País|AnoNascimento|\n",
            "+----------------+------------+--------+-------------+\n",
            "|   Jamie Russell|       Medio|  Brasil|         2005|\n",
            "|  Edward Kistler|       Medio| Equador|         2001|\n",
            "| Helen Blackwell|       Medio|Colômbia|         2003|\n",
            "|Wallace Mitchell|    Superior|  Brasil|         2004|\n",
            "|     Jessie Jean|    Superior|   Chile|         2004|\n",
            "|     Lisa Baxley|    Superior|  Brasil|         2008|\n",
            "|   Joann Ballard| Fundamental|  Brasil|         2000|\n",
            "|    Curtis Sutch| Fundamental|Paraguai|         2004|\n",
            "| Pamela Banuelos|       Medio|   Chile|         2001|\n",
            "|     Shelia Ceja|       Medio| Bolívia|         2000|\n",
            "+----------------+------------+--------+-------------+\n",
            "only showing top 10 rows\n",
            "\n"
          ]
        }
      ]
    },
    {
      "cell_type": "code",
      "source": [
        "df_nomes.createOrReplaceTempView(\"pessoas\")\n",
        "df_selec_sql = spark.sql(\"SELECT * FROM pessoas WHERE AnoNascimento >= 2000\")\n",
        "df_selec_sql.show(10)"
      ],
      "metadata": {
        "colab": {
          "base_uri": "https://localhost:8080/"
        },
        "id": "7EE3RptzHv5H",
        "outputId": "b3ccd3d3-fc15-4bbf-e92a-afa8ff3a4cfe"
      },
      "execution_count": 12,
      "outputs": [
        {
          "output_type": "stream",
          "name": "stdout",
          "text": [
            "+----------------+------------+--------+-------------+\n",
            "|           Nomes|Escolaridade|    País|AnoNascimento|\n",
            "+----------------+------------+--------+-------------+\n",
            "|   Jamie Russell|       Medio|  Brasil|         2005|\n",
            "|  Edward Kistler|       Medio| Equador|         2001|\n",
            "| Helen Blackwell|       Medio|Colômbia|         2003|\n",
            "|Wallace Mitchell|    Superior|  Brasil|         2004|\n",
            "|     Jessie Jean|    Superior|   Chile|         2004|\n",
            "|     Lisa Baxley|    Superior|  Brasil|         2008|\n",
            "|   Joann Ballard| Fundamental|  Brasil|         2000|\n",
            "|    Curtis Sutch| Fundamental|Paraguai|         2004|\n",
            "| Pamela Banuelos|       Medio|   Chile|         2001|\n",
            "|     Shelia Ceja|       Medio| Bolívia|         2000|\n",
            "+----------------+------------+--------+-------------+\n",
            "only showing top 10 rows\n",
            "\n"
          ]
        }
      ]
    },
    {
      "cell_type": "code",
      "source": [
        "millennials_count = df_nomes.filter(\n",
        "    (df_nomes[\"AnoNascimento\"] >= 1980) &\n",
        "    (df_nomes[\"AnoNascimento\"] <= 1994)\n",
        ").count()\n",
        "\n",
        "print(f\"Número de Millennials: {millennials_count}\")"
      ],
      "metadata": {
        "colab": {
          "base_uri": "https://localhost:8080/"
        },
        "id": "4gCMLW4eH0pw",
        "outputId": "03b237f7-d9ab-4ddc-a937-b9eacad1793a"
      },
      "execution_count": 13,
      "outputs": [
        {
          "output_type": "stream",
          "name": "stdout",
          "text": [
            "Número de Millennials: 2306746\n"
          ]
        }
      ]
    },
    {
      "cell_type": "code",
      "source": [
        "millennials_count_sql = spark.sql(\n",
        "    \"SELECT COUNT(*) AS Millennials FROM pessoas WHERE AnoNascimento BETWEEN 1980 AND 1994\"\n",
        ")\n",
        "millennials_count_sql.show()"
      ],
      "metadata": {
        "colab": {
          "base_uri": "https://localhost:8080/"
        },
        "id": "V2D_A5P2H-RW",
        "outputId": "c61d6c0f-db7b-47d7-9216-51e66e8e7d59"
      },
      "execution_count": 14,
      "outputs": [
        {
          "output_type": "stream",
          "name": "stdout",
          "text": [
            "+-----------+\n",
            "|Millennials|\n",
            "+-----------+\n",
            "|    2306746|\n",
            "+-----------+\n",
            "\n"
          ]
        }
      ]
    },
    {
      "cell_type": "code",
      "source": [
        "from pyspark.sql.functions import col\n",
        "\n",
        "df_nomes = df_nomes.withColumnRenamed(\"País\", \"Pais\").withColumnRenamed(\"Geração\", \"Geracao\")\n",
        "\n",
        "df_nomes.createOrReplaceTempView(\"pessoas\")\n",
        "\n",
        "geracoes = spark.sql(\n",
        "    \"\"\"\n",
        "    SELECT Pais, Geracao, COUNT(*) AS Quantidade\n",
        "    FROM pessoas\n",
        "    GROUP BY Pais, Geracao\n",
        "    ORDER BY Pais, Geracao, Quantidade\n",
        "    \"\"\"\n",
        ")\n",
        "\n",
        "geracoes.show()"
      ],
      "metadata": {
        "colab": {
          "base_uri": "https://localhost:8080/"
        },
        "id": "vWKnHufHID6f",
        "outputId": "0025255c-6875-41a1-e033-ff2513485cf8"
      },
      "execution_count": 16,
      "outputs": [
        {
          "output_type": "stream",
          "name": "stdout",
          "text": [
            "+---------+------------+----------+\n",
            "|     Pais|     Geracao|Quantidade|\n",
            "+---------+------------+----------+\n",
            "|Argentina|Baby Boomers|    246291|\n",
            "|Argentina|   Geração X|    184261|\n",
            "|Argentina|   Geração Z|    185213|\n",
            "|Argentina| Millennials|    184511|\n",
            "|  Bolívia|Baby Boomers|       395|\n",
            "|  Bolívia|   Geração X|       308|\n",
            "|  Bolívia|   Geração Z|       298|\n",
            "|  Bolívia| Millennials|       292|\n",
            "|   Brasil|Baby Boomers|    453865|\n",
            "|   Brasil|   Geração X|    339665|\n",
            "|   Brasil|   Geração Z|    340020|\n",
            "|   Brasil| Millennials|    339580|\n",
            "|    Chile|Baby Boomers|    571452|\n",
            "|    Chile|   Geração X|    428507|\n",
            "|    Chile|   Geração Z|    426950|\n",
            "|    Chile| Millennials|    427903|\n",
            "| Colômbia|Baby Boomers|    578774|\n",
            "| Colômbia|   Geração X|    434204|\n",
            "| Colômbia|   Geração Z|    432605|\n",
            "| Colômbia| Millennials|    433529|\n",
            "+---------+------------+----------+\n",
            "only showing top 20 rows\n",
            "\n"
          ]
        }
      ]
    }
  ]
}